{
 "cells": [
  {
   "cell_type": "code",
   "execution_count": 1,
   "id": "c35de881",
   "metadata": {},
   "outputs": [
    {
     "name": "stdout",
     "output_type": "stream",
     "text": [
      "Populating the interactive namespace from numpy and matplotlib\n"
     ]
    }
   ],
   "source": [
    "%pylab inline\n",
    "%matplotlib inline\n",
    "\n",
    "\n",
    "\n",
    "rc('font',**{'family':'sans-serif','sans-serif':['Helvetica']})\n",
    "rc('text', usetex=False)\n",
    "matplotlib.rcParams.update({'font.size': 9})\n",
    "\n",
    "rcParams['axes.linewidth'] = 0.5\n",
    "rcParams['legend.numpoints'] = 1\n",
    "\n",
    "import pickle\n",
    "import pandas as pd\n",
    "from pandas import read_csv\n",
    "pd.options.display.max_colwidth = 200"
   ]
  },
  {
   "cell_type": "code",
   "execution_count": 2,
   "id": "ee7830ee",
   "metadata": {},
   "outputs": [],
   "source": [
    "%run shapes.ipynb"
   ]
  },
  {
   "cell_type": "code",
   "execution_count": 20,
   "id": "048b614e-e7ff-45ce-a38f-7a8cd21da371",
   "metadata": {},
   "outputs": [
    {
     "name": "stdout",
     "output_type": "stream",
     "text": [
      "[50, 100, 200, 400, 800]\n",
      "[50, 100, 200, 400, 800]\n",
      "new model: circleOrgCentroidRawExp_R_2.0_4096.0.pkl_3x3_adam512_NData500K_epocs2000_tanh120x4_linear1x1_6\n"
     ]
    },
    {
     "name": "stderr",
     "output_type": "stream",
     "text": [
      "/var/folders/8f/bmgq40m56dq86t49gmc_09v80000gn/T/ipykernel_67023/487785016.py:178: RuntimeWarning: invalid value encountered in sqrt\n",
      "  errRel=np.sqrt(np.nansum(kappaML**2.-kappa**2.)/(np.fabs(kappa)+1e-6))\n",
      "/var/folders/8f/bmgq40m56dq86t49gmc_09v80000gn/T/ipykernel_67023/487785016.py:185: RuntimeWarning: Mean of empty slice\n",
      "  L1R[iC]=np.nanmean(errRel)\n",
      "/var/folders/8f/bmgq40m56dq86t49gmc_09v80000gn/T/ipykernel_67023/487785016.py:187: RuntimeWarning: All-NaN slice encountered\n",
      "  LMaxR[iC]=np.nanmax(errRel)\n"
     ]
    },
    {
     "name": "stdout",
     "output_type": "stream",
     "text": [
      "elapsed time 28.811920 seconds.\n"
     ]
    }
   ],
   "source": [
    "%run shapes.ipynb\n",
    "start=time.time()\n",
    "NInt=2000;\n",
    "alphaPath=\"jonswap160_NInt_%d\"%(NInt)\n",
    "models=[\"normal_circleOrgCentroidAllNormalExp_R_2.0_4096.0.pkl_3x3_adam512_NData500K_epocs2000_tanh30x4_linear1x1_99\",\n",
    "        \"circleOrgCentroidRawExp_R_2.0_4096.0.pkl_3x3_adam512_NData500K_epocs2000_tanh120x4_linear1x1_6\"]       \n",
    "for model in models:\n",
    "    df=testCurvModels(alphaPath,NInt=200,modelType=model)\n",
    "\n",
    "end=time.time()\n",
    "print(\"elapsed time %f seconds.\"%(end-start))"
   ]
  },
  {
   "cell_type": "code",
   "execution_count": 25,
   "id": "3bcfc196-6d2f-4afd-8be3-3452e4a783bf",
   "metadata": {},
   "outputs": [
    {
     "name": "stdout",
     "output_type": "stream",
     "text": [
      "[20, 40, 80, 160, 320, 640]\n",
      "[20, 40, 80, 160, 320, 640]\n",
      "[20, 40, 80, 160, 320, 640]\n",
      "new model: normal_circleOrgCentroidAllNormalExp_R_2.0_4096.0.pkl_3x3_adam512_NData500K_epocs3000_tanh30x4_linear1x1_49\n"
     ]
    },
    {
     "name": "stderr",
     "output_type": "stream",
     "text": [
      "/var/folders/8f/bmgq40m56dq86t49gmc_09v80000gn/T/ipykernel_67023/487785016.py:178: RuntimeWarning: invalid value encountered in sqrt\n",
      "  errRel=np.sqrt(np.nansum(kappaML**2.-kappa**2.)/(np.fabs(kappa)+1e-6))\n",
      "/var/folders/8f/bmgq40m56dq86t49gmc_09v80000gn/T/ipykernel_67023/487785016.py:185: RuntimeWarning: Mean of empty slice\n",
      "  L1R[iC]=np.nanmean(errRel)\n",
      "/var/folders/8f/bmgq40m56dq86t49gmc_09v80000gn/T/ipykernel_67023/487785016.py:187: RuntimeWarning: All-NaN slice encountered\n",
      "  LMaxR[iC]=np.nanmax(errRel)\n"
     ]
    },
    {
     "name": "stdout",
     "output_type": "stream",
     "text": [
      "elapsed time 733.295175 seconds.\n"
     ]
    }
   ],
   "source": [
    "%run shapes.ipynb\n",
    "start=time.time()\n",
    "NInt=2000;R=1.;A=0.5;n=4;psi=0.\n",
    "alphaPath=\"star_R_%.2f_A_%.2f_n_%d_psi_%.2f_NInt_%d\"%(R,A,n,psi,NInt)\n",
    "models=[\"normal_circleOrgCentroidAllNormalExp_R_2.0_4096.0.pkl_3x3_adam512_NData500K_epocs2000_tanh30x4_linear1x1_99\",\n",
    "        \"circleOrgCentroidRawExp_R_2.0_4096.0.pkl_3x3_adam512_NData500K_epocs2000_tanh120x4_linear1x1_6\",\n",
    "        \"normal_circleOrgCentroidAllNormalExp_R_2.0_4096.0.pkl_3x3_adam512_NData500K_epocs3000_tanh30x4_linear1x1_49\"]       \n",
    "for model in models:\n",
    "    df=testCurvModels(alphaPath,NInt=200,modelType=model,eps=1e-2)\n",
    "\n",
    "end=time.time()\n",
    "print(\"elapsed time %f seconds.\"%(end-start))"
   ]
  },
  {
   "cell_type": "code",
   "execution_count": null,
   "id": "44e4d311-b217-4c3c-bee3-52827c65e41e",
   "metadata": {},
   "outputs": [],
   "source": [
    "start=time.time()\n",
    "NInt=2000;R=1.;A=0.25;n=4;psi=0.\n",
    "alphaPath=\"star_R_%.2f_A_%.2f_n_%d_psi_%.2f_NInt_%d\"%(R,A,n,psi,NInt)\n",
    "models=[\"circleOrgCentroidRawExp_R_2.0_4096.0.pkl_3x3_adam512_NData500K_epocs2000_tanh60x4_linear1x1_47\",\n",
    "        \"normal_circleOrgCentroidAllNormalExp_R_2.0_4096.0.pkl_3x3_adam512_NData500K_epocs2000_tanh30x4_linear1x1_99\",\n",
    "        \"circleOrgCentroidRawExp_R_2.0_4096.0.pkl_3x3_adam512_NData500K_epocs2000_tanh120x4_linear1x1_6\",\n",
    "        \"normal_circleOrgCentroidAllNormalExp_R_2.0_4096.0.pkl_3x3_adam512_NData500K_epocs2000_tanh120x4_linear1x1_14\",\n",
    "        \"circleOrgCentroidRawExp_R_2.0_4096.0.pkl_3x3_adam512_NData500K_epocs2000_tanh120x4_linear1x1_33\",\n",
    "        \"circleOrgCentroidRawExp_R_2.0_4096.0.pkl_3x3\",\n",
    "        \"normal_circleOrgCentroidAllNormalExp_R_2.0_4096.0.pkl_3x3\"]       \n",
    "for model in models:\n",
    "    df=testCurvModels(alphaPath,NInt=200,modelType=model,eps=1e-6)\n",
    "\n",
    "end=time.time()\n",
    "print(\"elapsed time %f seconds.\"%(end-start))"
   ]
  },
  {
   "cell_type": "code",
   "execution_count": 9,
   "id": "8ff8ede6-0096-434e-ac2d-a87b51da0c48",
   "metadata": {},
   "outputs": [
    {
     "name": "stdout",
     "output_type": "stream",
     "text": [
      "[5, 10, 20, 40, 80, 160, 320]\n",
      "Evaluating MLP model of Qi et al. (2019).\n",
      "new model: QiJCP\n"
     ]
    },
    {
     "name": "stderr",
     "output_type": "stream",
     "text": [
      "<ipython-input-8-68475099a711>:188: RuntimeWarning: invalid value encountered in sqrt\n",
      "  errRel=np.sqrt(np.nansum(kappaML**2.-kappa**2.)/(np.fabs(kappa)+1e-6))\n",
      "<ipython-input-8-68475099a711>:195: RuntimeWarning: Mean of empty slice\n",
      "  L1R[iC]=np.nanmean(errRel)\n",
      "<ipython-input-8-68475099a711>:197: RuntimeWarning: All-NaN slice encountered\n",
      "  LMaxR[iC]=np.nanmax(errRel)\n"
     ]
    },
    {
     "name": "stdout",
     "output_type": "stream",
     "text": [
      "[5, 10, 20, 40, 80, 160, 320]\n",
      "elapsed time 13.788382 seconds.\n"
     ]
    }
   ],
   "source": [
    "start=time.time()\n",
    "NInt=2000;R=1.;A=0.25;n=4;psi=0.\n",
    "alphaPath=\"star_R_%.2f_A_%.2f_n_%d_psi_%.2f_NInt_%d\"%(R,A,n,psi,NInt)\n",
    "models=[\"normal_circleOrgCentroidAllNormalExp_R_2.0_4096.0.pkl_3x3_adam512_NData500K_epocs2000_tanh30x4_linear1x1_99\",\n",
    "        \"circleOrgCentroidRawExp_R_2.0_4096.0.pkl_3x3_adam512_NData500K_epocs2000_tanh30x4_linear1x1_7\"]       \n",
    "for model in models:\n",
    "    df=testCurvModels(alphaPath,NInt=200,modelType=model,eps=1e-2)\n",
    "\n",
    "end=time.time()\n",
    "print(\"elapsed time %f seconds.\"%(end-start))"
   ]
  },
  {
   "cell_type": "code",
   "execution_count": 14,
   "id": "fe0878d3-38b8-48bf-83ce-608471d7b972",
   "metadata": {},
   "outputs": [
    {
     "name": "stdout",
     "output_type": "stream",
     "text": [
      "[20, 40, 80, 160, 320, 640]\n",
      "Evaluating MLP model of Qi et al. (2019).\n",
      "new model: QiJCP\n",
      "[20, 40, 80, 160, 320, 640]\n",
      "elapsed time 37.518382 seconds.\n"
     ]
    }
   ],
   "source": [
    "start=time.time()\n",
    "NInt=2000;R=1.;A=0.5;n=4;psi=0.\n",
    "alphaPath=\"star_R_%.2f_A_%.2f_n_%d_psi_%.2f_NInt_%d\"%(R,A,n,psi,NInt)\n",
    "models=[\"normal_circleOrgCentroidAllNormalExp_R_2.0_4096.0.pkl_3x3_adam512_NData500K_epocs2000_tanh30x4_linear1x1_99\",\n",
    "        \"circleOrgCentroidRawExp_R_2.0_4096.0.pkl_3x3_adam512_NData500K_epocs2000_tanh30x4_linear1x1_7\"]       \n",
    "for model in models:\n",
    "    df=testCurvModels(alphaPath,NInt=200,modelType=model,eps=1e-2)\n",
    "\n",
    "end=time.time()\n",
    "print(\"elapsed time %f seconds.\"%(end-start))"
   ]
  },
  {
   "cell_type": "code",
   "execution_count": 12,
   "id": "8d4097ee-97dd-4869-95e8-45df87a0fe46",
   "metadata": {},
   "outputs": [
    {
     "name": "stdout",
     "output_type": "stream",
     "text": [
      "[4, 8, 16, 32, 64, 128]\n",
      "new model: heightFunction33\n",
      "new model: heightFunction35\n"
     ]
    },
    {
     "name": "stderr",
     "output_type": "stream",
     "text": [
      "/var/folders/8f/bmgq40m56dq86t49gmc_09v80000gn/T/ipykernel_11243/487785016.py:178: RuntimeWarning: invalid value encountered in sqrt\n",
      "  errRel=np.sqrt(np.nansum(kappaML**2.-kappa**2.)/(np.fabs(kappa)+1e-6))\n",
      "/var/folders/8f/bmgq40m56dq86t49gmc_09v80000gn/T/ipykernel_11243/487785016.py:179: RuntimeWarning: invalid value encountered in sqrt\n",
      "  err2Rel=np.sqrt(np.nansum((kappaML**2.-kappa**2.)/(np.fabs(kappa)**2.+1e-8)))\n",
      "/var/folders/8f/bmgq40m56dq86t49gmc_09v80000gn/T/ipykernel_11243/487785016.py:185: RuntimeWarning: Mean of empty slice\n",
      "  L1R[iC]=np.nanmean(errRel)\n",
      "/var/folders/8f/bmgq40m56dq86t49gmc_09v80000gn/T/ipykernel_11243/487785016.py:186: RuntimeWarning: Mean of empty slice\n",
      "  L2R[iC]=np.nanmean(err2Rel)\n",
      "/var/folders/8f/bmgq40m56dq86t49gmc_09v80000gn/T/ipykernel_11243/487785016.py:187: RuntimeWarning: All-NaN slice encountered\n",
      "  LMaxR[iC]=np.nanmax(errRel)\n"
     ]
    },
    {
     "name": "stdout",
     "output_type": "stream",
     "text": [
      "new model: heightFunction\n",
      "new model: normal_circleOrgCentroidAllNormalExp_R_2.0_4096.0.pkl_3x3_adam512_NData500K_epocs2000_tanh30x4_linear1x1_99\n",
      "[4, 8, 16, 32, 64, 128]\n",
      "new model: circleOrgCentroidRawExp_R_2.0_4096.0.pkl_3x3_adam512_NData500K_epocs2000_tanh30x4_linear1x1_74\n",
      "new model: circleOrgCentroidRawExp_R_2.0_4096.0.pkl_3x3_adam512_NData500K_epocs2000_tanh30x4_linear1x1_73\n",
      "new model: circleOrgCentroidRawExp_R_2.0_4096.0.pkl_3x3_adam512_NData500K_epocs2000_tanh30x4_linear1x1_72\n",
      "new model: circleOrgCentroidRawExp_R_2.0_4096.0.pkl_3x3_adam512_NData500K_epocs2000_tanh30x4_linear1x1_7\n",
      "new model: circleOrgCentroidRawExp_R_2.0_4096.0.pkl_3x3_adam512_NData500K_epocs2000_tanh30x4_linear1x1_75\n",
      "new model: circleOrgCentroidRawExp_R_2.0_4096.0.pkl_3x3_adam512_NData500K_epocs2000_tanh30x4_linear1x1_79\n",
      "new model: circleOrgCentroidRawExp_R_2.0_4096.0.pkl_3x3_adam512_NData500K_epocs2000_tanh30x4_linear1x1_70\n",
      "new model: circleOrgCentroidRawExp_R_2.0_4096.0.pkl_3x3_adam512_NData500K_epocs2000_tanh30x4_linear1x1_77\n",
      "new model: circleOrgCentroidRawExp_R_2.0_4096.0.pkl_3x3_adam512_NData500K_epocs2000_tanh30x4_linear1x1_76\n",
      "new model: circleOrgCentroidRawExp_R_2.0_4096.0.pkl_3x3_adam512_NData500K_epocs2000_tanh30x4_linear1x1_71\n",
      "new model: circleOrgCentroidRawExp_R_2.0_4096.0.pkl_3x3_adam512_NData500K_epocs2000_tanh30x4_linear1x1_78\n",
      "elapsed time 334.636128 seconds.\n"
     ]
    }
   ],
   "source": [
    "start=time.time()\n",
    "NInt=4000;R=1.;\n",
    "alphaPath=\"circle_R_%.2f_NInt_%d\"%(R,NInt)\n",
    "models=[\"normal_circleOrgCentroidAllNormalExp_R_2.0_4096.0.pkl_3x3_adam512_NData500K_epocs2000_tanh30x4_linear1x1_99\",\n",
    "        \"circleOrgCentroidRawExp_R_2.0_4096.0.pkl_3x3_adam512_NData500K_epocs2000_tanh30x4_linear1x1_7\"]       \n",
    "for model in models:\n",
    "    df=testCurvModels(alphaPath,NInt=200,modelType=model,eps=1e-6)\n",
    "\n",
    "end=time.time()\n",
    "print(\"elapsed time %f seconds.\"%(end-start))"
   ]
  },
  {
   "cell_type": "code",
   "execution_count": 21,
   "id": "666bcf52-1b06-4a51-8ef3-3b36b6daddb5",
   "metadata": {},
   "outputs": [
    {
     "name": "stdout",
     "output_type": "stream",
     "text": [
      "[50, 100, 200, 400, 800, 1600]\n",
      "new model: heightFunction33\n",
      "[50, 100, 200, 400, 800, 1600]\n",
      "elapsed time 0.210640 seconds.\n"
     ]
    }
   ],
   "source": [
    "%run shapes.ipynb\n",
    "start=time.time()\n",
    "NInt=2000;\n",
    "alphaPath=\"jonswap200_NInt_%d\"%(NInt)\n",
    "models=[\"circleOrgCentroidRawExp_R_2.0_4096.0.pkl_3x3_adam512_NData500K_epocs2000_tanh30x4_linear1x1_07\",\n",
    "        \"normal_circleOrgCentroidAllNormalExp_R_2.0_4096.0.pkl_3x3_adam512_NData500K_epocs2000_tanh30x4_linear1x1_99\"]       \n",
    "for model in models:\n",
    "    df=testCurvModels(alphaPath,NInt=200,modelType=model,eps=1e-3)\n",
    "    #df=testCurvModelsSym(alphaPath,NInt=200,operation='swap',modelType=model,eps=1e-4)\n",
    "\n",
    "end=time.time()\n",
    "print(\"elapsed time %f seconds.\"%(end-start))"
   ]
  },
  {
   "cell_type": "code",
   "execution_count": 20,
   "id": "dae14d4f-bf53-4550-ac45-eea0f9f405e1",
   "metadata": {},
   "outputs": [
    {
     "name": "stdout",
     "output_type": "stream",
     "text": [
      "[10, 20, 40, 80, 160, 320]\n",
      "[10, 20, 40, 80, 160, 320]\n",
      "elapsed time 0.074520 seconds.\n"
     ]
    }
   ],
   "source": [
    "%run shapes.ipynb\n",
    "start=time.time()\n",
    "NInt=2000;a=1.;b=0.25;n=4;psi=pi/4.\n",
    "alphaPath=\"ellipse_a_%.2f_b_%.2f_psi_%.2f_NInt_%d\"%(a,b,psi,NInt)\n",
    "models=[\"normal_circleOrgCentroidAllNormalExp_R_2.0_4096.0.pkl_3x3_adam512_NData500K_epocs2000_tanh30x4_linear1x1_99\"\n",
    "        ,\"circleOrgCentroidRawExp_R_2.0_4096.0.pkl_3x3_adam512_NData500K_epocs2000_tanh30x4_linear1x1_07\"]       \n",
    "for model in models:\n",
    "    df=testCurvModels(alphaPath,NInt=200,modelType=model,eps=1e-3)\n",
    "    #df=testCurvModelsSym(alphaPath,NInt=200,operation='swap',modelType=model,eps=1e-2)\n",
    "\n",
    "end=time.time()\n",
    "print(\"elapsed time %f seconds.\"%(end-start))"
   ]
  },
  {
   "cell_type": "code",
   "execution_count": 19,
   "id": "a08759fe-3895-44fd-a883-ff59e5edd556",
   "metadata": {},
   "outputs": [
    {
     "name": "stdout",
     "output_type": "stream",
     "text": [
      "[5, 10, 20, 40, 80, 160, 320]\n",
      "new model: heightFunction33\n",
      "[5, 10, 20, 40, 80, 160, 320]\n",
      "elapsed time 0.455062 seconds.\n"
     ]
    }
   ],
   "source": [
    "%run shapes.ipynb\n",
    "start=time.time()\n",
    "NInt=2000;R=1.;A=0.25;n=4;psi=0.\n",
    "alphaPath=\"star_R_%.2f_A_%.2f_n_%d_psi_%.2f_NInt_%d\"%(R,A,n,psi,NInt)\n",
    "models=[\"normal_circleOrgCentroidAllNormalExp_R_2.0_4096.0.pkl_3x3_adam512_NData500K_epocs2000_tanh30x4_linear1x1_991\",\n",
    "        \"circleOrgCentroidRawExp_R_2.0_4096.0.pkl_3x3_adam512_NData500K_epocs2000_tanh30x4_linear1x1_07\"]       \n",
    "for model in models:\n",
    "    df=testCurvModels(alphaPath,NInt=200,modelType=model,eps=1e-3)\n",
    "    #df=testCurvModelsSym(alphaPath,NInt=200,operation='refY',modelType=model,eps=1e-3)\n",
    "\n",
    "end=time.time()\n",
    "print(\"elapsed time %f seconds.\"%(end-start))"
   ]
  },
  {
   "cell_type": "code",
   "execution_count": null,
   "id": "aff5210b-03af-496d-b488-56e7046f9be3",
   "metadata": {},
   "outputs": [],
   "source": [
    "%run shapes.ipynb\n",
    "NInt=2000;R=1.;A=0.5;n=4;psi=0.\n",
    "alphaPath=\"star_R_%.2f_A_%.2f_n_%d_psi_%.2f_NInt_%d\"%(R,A,n,psi,NInt)\n",
    "models=[\"odd_circleOrgCentroidAllNormalExp_R_2.0_4096.0.pkl_3x3_adam512_NData500K_epocs2000_tanh30x4_linear1x1_99\",\n",
    "        \"circleOrgCentroidRawExp_R_2.0_4096.0.pkl_3x3_adam512_NData500K_epocs2000_tanh30x4_linear1x1_07\"]       \n",
    "for model in models:\n",
    "    df=testCurvModels(alphaPath,NInt=200,modelType=model,eps=1e-3)\n",
    "    #df=testCurvModelsSym(alphaPath,NInt=200,operation='rot',modelType=model,eps=1e-3)\n",
    "    #df=testCurvModelsSym(alphaPath,NInt=200,operation='swap',modelType=model,eps=1e-3)\n",
    "\n",
    "#print(\"elapsed time %f seconds.\"%(end-start))"
   ]
  },
  {
   "cell_type": "code",
   "execution_count": 18,
   "id": "558afd20-883c-46af-baf2-51d517ecc972",
   "metadata": {},
   "outputs": [
    {
     "name": "stdout",
     "output_type": "stream",
     "text": [
      "[10, 20, 40, 80, 160, 320]\n",
      "new model: heightFunction33\n",
      "elapsed time 0.370351 seconds.\n"
     ]
    }
   ],
   "source": [
    "%run shapes.ipynb\n",
    "start=time.time()\n",
    "NInt=2000;a=1.;b=0.25;n=4;psi=pi/4.\n",
    "alphaPath=\"ellipse_a_%.2f_b_%.2f_psi_%.2f_NInt_%d\"%(a,b,psi,NInt)\n",
    "models=[\"heightFunction33\"]#normal_circleOrgCentroidAllNormalExp_R_2.0_4096.0.pkl_3x3_adam512_NData500K_epocs2000_tanh30x4_linear1x1_99\"\n",
    "        #,\"circleOrgCentroidRawExp_R_2.0_4096.0.pkl_3x3_adam512_NData500K_epocs2000_tanh30x4_linear1x1_07\"]       \n",
    "for model in models:\n",
    "    df=testCurvModels(alphaPath,NInt=200,modelType=model,eps=1e-3)\n",
    "    #df=testCurvModelsSym(alphaPath,NInt=200,operation='swap',modelType=model,eps=1e-2)\n",
    "\n",
    "end=time.time()\n",
    "print(\"elapsed time %f seconds.\"%(end-start))"
   ]
  },
  {
   "cell_type": "code",
   "execution_count": null,
   "id": "0f8c8a17-f49e-4c8a-bec7-5ec892b9d2c6",
   "metadata": {},
   "outputs": [],
   "source": []
  }
 ],
 "metadata": {
  "kernelspec": {
   "display_name": "Python 3 (ipykernel)",
   "language": "python",
   "name": "python3"
  },
  "language_info": {
   "codemirror_mode": {
    "name": "ipython",
    "version": 3
   },
   "file_extension": ".py",
   "mimetype": "text/x-python",
   "name": "python",
   "nbconvert_exporter": "python",
   "pygments_lexer": "ipython3",
   "version": "3.9.5"
  }
 },
 "nbformat": 4,
 "nbformat_minor": 5
}
